{
 "cells": [
  {
   "cell_type": "code",
   "execution_count": 14,
   "id": "b2a92577",
   "metadata": {},
   "outputs": [
    {
     "data": {
      "text/plain": [
       "array([[[ 0,  1,  2],\n",
       "        [ 3,  4,  5],\n",
       "        [ 6,  7,  8]],\n",
       "\n",
       "       [[ 9, 10, 11],\n",
       "        [12, 13, 14],\n",
       "        [15, 16, 17]],\n",
       "\n",
       "       [[18, 19, 20],\n",
       "        [21, 22, 23],\n",
       "        [24, 25, 26]]])"
      ]
     },
     "execution_count": 14,
     "metadata": {},
     "output_type": "execute_result"
    }
   ],
   "source": [
    "import numpy as np\n",
    "n = numpy.arange(27)\n",
    "n.reshape(3,3,3)"
   ]
  },
  {
   "cell_type": "code",
   "execution_count": 2,
   "id": "9e0f8a33",
   "metadata": {},
   "outputs": [
    {
     "data": {
      "text/plain": [
       "list"
      ]
     },
     "execution_count": 2,
     "metadata": {},
     "output_type": "execute_result"
    }
   ],
   "source": [
    "k = [[123,12,112,213,33],[],[]]\n",
    "type(k)"
   ]
  },
  {
   "cell_type": "code",
   "execution_count": 3,
   "id": "53c0cb74",
   "metadata": {},
   "outputs": [
    {
     "name": "stderr",
     "output_type": "stream",
     "text": [
      "/var/folders/q1/bch20c4n6239r0z9570mwlpww5dk08/T/ipykernel_30784/1488467859.py:1: VisibleDeprecationWarning: Creating an ndarray from ragged nested sequences (which is a list-or-tuple of lists-or-tuples-or ndarrays with different lengths or shapes) is deprecated. If you meant to do this, you must specify 'dtype=object' when creating the ndarray.\n",
      "  k = numpy.asarray([[123,12,112,213,33],[],[]])\n"
     ]
    },
    {
     "data": {
      "text/plain": [
       "numpy.ndarray"
      ]
     },
     "execution_count": 3,
     "metadata": {},
     "output_type": "execute_result"
    }
   ],
   "source": [
    "k = numpy.asarray([[123,12,112,213,33],[],[]])\n",
    "type(k)"
   ]
  },
  {
   "cell_type": "code",
   "execution_count": 4,
   "id": "847ce761",
   "metadata": {},
   "outputs": [],
   "source": [
    "try:\n",
    "    import cv2\n",
    "except:\n",
    "    !pip3.10 install opencv-python\n",
    "    import cv2"
   ]
  },
  {
   "cell_type": "code",
   "execution_count": 5,
   "id": "756067ad",
   "metadata": {},
   "outputs": [
    {
     "data": {
      "text/plain": [
       "array([[[187, 187, 187],\n",
       "        [158, 158, 158],\n",
       "        [104, 104, 104],\n",
       "        [121, 121, 121],\n",
       "        [143, 143, 143]],\n",
       "\n",
       "       [[198, 198, 198],\n",
       "        [125, 125, 125],\n",
       "        [255, 255, 255],\n",
       "        [255, 255, 255],\n",
       "        [147, 147, 147]],\n",
       "\n",
       "       [[209, 209, 209],\n",
       "        [134, 134, 134],\n",
       "        [255, 255, 255],\n",
       "        [ 97,  97,  97],\n",
       "        [182, 182, 182]]], dtype=uint8)"
      ]
     },
     "execution_count": 5,
     "metadata": {},
     "output_type": "execute_result"
    }
   ],
   "source": [
    "IMAGE_PATH = '/Users/adiaz3/Desktop/python stuff/mega course- 10 apps/modules/data/images/smallgray.png'\n",
    "im_g = cv2.imread(IMAGE_PATH)\n",
    "im_g"
   ]
  },
  {
   "cell_type": "code",
   "execution_count": 6,
   "id": "b64f529e",
   "metadata": {},
   "outputs": [
    {
     "data": {
      "text/plain": [
       "array([[187, 158, 104, 121, 143],\n",
       "       [198, 125, 255, 255, 147],\n",
       "       [209, 134, 255,  97, 182]], dtype=uint8)"
      ]
     },
     "execution_count": 6,
     "metadata": {},
     "output_type": "execute_result"
    }
   ],
   "source": [
    "im_g = cv2.imread(IMAGE_PATH,0) \n",
    "im_g\n",
    "\n",
    "#3 layers, RGB arrays"
   ]
  },
  {
   "cell_type": "code",
   "execution_count": 7,
   "id": "741ceafc",
   "metadata": {},
   "outputs": [
    {
     "data": {
      "text/plain": [
       "array([[[187, 187, 187],\n",
       "        [158, 158, 158],\n",
       "        [104, 104, 104],\n",
       "        [121, 121, 121],\n",
       "        [143, 143, 143]],\n",
       "\n",
       "       [[198, 198, 198],\n",
       "        [125, 125, 125],\n",
       "        [255, 255, 255],\n",
       "        [255, 255, 255],\n",
       "        [147, 147, 147]],\n",
       "\n",
       "       [[209, 209, 209],\n",
       "        [134, 134, 134],\n",
       "        [255, 255, 255],\n",
       "        [ 97,  97,  97],\n",
       "        [182, 182, 182]]], dtype=uint8)"
      ]
     },
     "execution_count": 7,
     "metadata": {},
     "output_type": "execute_result"
    }
   ],
   "source": [
    "im_g = cv2.imread(IMAGE_PATH,1) \n",
    "im_g"
   ]
  },
  {
   "cell_type": "code",
   "execution_count": 8,
   "id": "01914311",
   "metadata": {},
   "outputs": [
    {
     "data": {
      "text/plain": [
       "True"
      ]
     },
     "execution_count": 8,
     "metadata": {},
     "output_type": "execute_result"
    }
   ],
   "source": [
    "cv2.imwrite(\"data/images/newsmallgray.png\", im_g)"
   ]
  },
  {
   "cell_type": "code",
   "execution_count": 9,
   "id": "a8cce730",
   "metadata": {},
   "outputs": [
    {
     "data": {
      "text/plain": [
       "array([[104, 121],\n",
       "       [255, 255]], dtype=uint8)"
      ]
     },
     "execution_count": 9,
     "metadata": {},
     "output_type": "execute_result"
    }
   ],
   "source": [
    "im_g[0:2,2:4,1]\n",
    "#slice this way from their dimensions"
   ]
  },
  {
   "cell_type": "code",
   "execution_count": 10,
   "id": "8577ae29",
   "metadata": {},
   "outputs": [
    {
     "data": {
      "text/plain": [
       "(3, 5, 3)"
      ]
     },
     "execution_count": 10,
     "metadata": {},
     "output_type": "execute_result"
    }
   ],
   "source": [
    "im_g.shape"
   ]
  },
  {
   "cell_type": "code",
   "execution_count": 11,
   "id": "4fab62f5",
   "metadata": {},
   "outputs": [
    {
     "name": "stdout",
     "output_type": "stream",
     "text": [
      "[[187 187 187]\n",
      " [158 158 158]\n",
      " [104 104 104]\n",
      " [121 121 121]\n",
      " [143 143 143]]\n",
      "[[198 198 198]\n",
      " [125 125 125]\n",
      " [255 255 255]\n",
      " [255 255 255]\n",
      " [147 147 147]]\n",
      "[[209 209 209]\n",
      " [134 134 134]\n",
      " [255 255 255]\n",
      " [ 97  97  97]\n",
      " [182 182 182]]\n"
     ]
    }
   ],
   "source": [
    "for i in im_g:\n",
    "    print(i)"
   ]
  },
  {
   "cell_type": "code",
   "execution_count": 12,
   "id": "18b7064d",
   "metadata": {},
   "outputs": [
    {
     "name": "stdout",
     "output_type": "stream",
     "text": [
      "187\n",
      "187\n",
      "187\n",
      "158\n",
      "158\n",
      "158\n",
      "104\n",
      "104\n",
      "104\n",
      "121\n",
      "121\n",
      "121\n",
      "143\n",
      "143\n",
      "143\n",
      "198\n",
      "198\n",
      "198\n",
      "125\n",
      "125\n",
      "125\n",
      "255\n",
      "255\n",
      "255\n",
      "255\n",
      "255\n",
      "255\n",
      "147\n",
      "147\n",
      "147\n",
      "209\n",
      "209\n",
      "209\n",
      "134\n",
      "134\n",
      "134\n",
      "255\n",
      "255\n",
      "255\n",
      "97\n",
      "97\n",
      "97\n",
      "182\n",
      "182\n",
      "182\n"
     ]
    }
   ],
   "source": [
    "for i in im_g.flat:\n",
    "    print(i)"
   ]
  },
  {
   "cell_type": "code",
   "execution_count": 13,
   "id": "46fe77a6",
   "metadata": {},
   "outputs": [
    {
     "name": "stdout",
     "output_type": "stream",
     "text": [
      "[[187 198 209]\n",
      " [158 125 134]\n",
      " [104 255 255]\n",
      " [121 255  97]\n",
      " [143 147 182]]\n",
      "[[187 198 209]\n",
      " [158 125 134]\n",
      " [104 255 255]\n",
      " [121 255  97]\n",
      " [143 147 182]]\n",
      "[[187 198 209]\n",
      " [158 125 134]\n",
      " [104 255 255]\n",
      " [121 255  97]\n",
      " [143 147 182]]\n"
     ]
    }
   ],
   "source": [
    "for i in im_g.T:\n",
    "    print(i)"
   ]
  },
  {
   "cell_type": "code",
   "execution_count": 19,
   "id": "55fc60a8",
   "metadata": {},
   "outputs": [],
   "source": [
    "ims = np.hstack((im_g, im_g,im_g)) #need to pass as tuple or it won't read properly:vhstack_dispatcher() takes 1 positional argument but 2 were given"
   ]
  },
  {
   "cell_type": "code",
   "execution_count": 21,
   "id": "e4fd479a",
   "metadata": {},
   "outputs": [
    {
     "data": {
      "text/plain": [
       "array([[[187, 187, 187],\n",
       "        [158, 158, 158],\n",
       "        [104, 104, 104],\n",
       "        [121, 121, 121],\n",
       "        [143, 143, 143],\n",
       "        [187, 187, 187],\n",
       "        [158, 158, 158],\n",
       "        [104, 104, 104],\n",
       "        [121, 121, 121],\n",
       "        [143, 143, 143],\n",
       "        [187, 187, 187],\n",
       "        [158, 158, 158],\n",
       "        [104, 104, 104],\n",
       "        [121, 121, 121],\n",
       "        [143, 143, 143]],\n",
       "\n",
       "       [[198, 198, 198],\n",
       "        [125, 125, 125],\n",
       "        [255, 255, 255],\n",
       "        [255, 255, 255],\n",
       "        [147, 147, 147],\n",
       "        [198, 198, 198],\n",
       "        [125, 125, 125],\n",
       "        [255, 255, 255],\n",
       "        [255, 255, 255],\n",
       "        [147, 147, 147],\n",
       "        [198, 198, 198],\n",
       "        [125, 125, 125],\n",
       "        [255, 255, 255],\n",
       "        [255, 255, 255],\n",
       "        [147, 147, 147]],\n",
       "\n",
       "       [[209, 209, 209],\n",
       "        [134, 134, 134],\n",
       "        [255, 255, 255],\n",
       "        [ 97,  97,  97],\n",
       "        [182, 182, 182],\n",
       "        [209, 209, 209],\n",
       "        [134, 134, 134],\n",
       "        [255, 255, 255],\n",
       "        [ 97,  97,  97],\n",
       "        [182, 182, 182],\n",
       "        [209, 209, 209],\n",
       "        [134, 134, 134],\n",
       "        [255, 255, 255],\n",
       "        [ 97,  97,  97],\n",
       "        [182, 182, 182]]], dtype=uint8)"
      ]
     },
     "execution_count": 21,
     "metadata": {},
     "output_type": "execute_result"
    }
   ],
   "source": [
    "ims"
   ]
  },
  {
   "cell_type": "code",
   "execution_count": 18,
   "id": "65836632",
   "metadata": {},
   "outputs": [
    {
     "data": {
      "text/plain": [
       "array([[[187, 187, 187],\n",
       "        [158, 158, 158],\n",
       "        [104, 104, 104],\n",
       "        [121, 121, 121],\n",
       "        [143, 143, 143]],\n",
       "\n",
       "       [[198, 198, 198],\n",
       "        [125, 125, 125],\n",
       "        [255, 255, 255],\n",
       "        [255, 255, 255],\n",
       "        [147, 147, 147]],\n",
       "\n",
       "       [[209, 209, 209],\n",
       "        [134, 134, 134],\n",
       "        [255, 255, 255],\n",
       "        [ 97,  97,  97],\n",
       "        [182, 182, 182]],\n",
       "\n",
       "       [[187, 187, 187],\n",
       "        [158, 158, 158],\n",
       "        [104, 104, 104],\n",
       "        [121, 121, 121],\n",
       "        [143, 143, 143]],\n",
       "\n",
       "       [[198, 198, 198],\n",
       "        [125, 125, 125],\n",
       "        [255, 255, 255],\n",
       "        [255, 255, 255],\n",
       "        [147, 147, 147]],\n",
       "\n",
       "       [[209, 209, 209],\n",
       "        [134, 134, 134],\n",
       "        [255, 255, 255],\n",
       "        [ 97,  97,  97],\n",
       "        [182, 182, 182]]], dtype=uint8)"
      ]
     },
     "execution_count": 18,
     "metadata": {},
     "output_type": "execute_result"
    }
   ],
   "source": [
    "ims = np.vstack((im_g, im_g))\n",
    "ims #needs to be same dim"
   ]
  },
  {
   "cell_type": "code",
   "execution_count": 23,
   "id": "9018b148",
   "metadata": {},
   "outputs": [
    {
     "data": {
      "text/plain": [
       "[array([[[187, 187, 187],\n",
       "         [158, 158, 158],\n",
       "         [104, 104, 104],\n",
       "         [121, 121, 121],\n",
       "         [143, 143, 143]],\n",
       " \n",
       "        [[198, 198, 198],\n",
       "         [125, 125, 125],\n",
       "         [255, 255, 255],\n",
       "         [255, 255, 255],\n",
       "         [147, 147, 147]],\n",
       " \n",
       "        [[209, 209, 209],\n",
       "         [134, 134, 134],\n",
       "         [255, 255, 255],\n",
       "         [ 97,  97,  97],\n",
       "         [182, 182, 182]]], dtype=uint8),\n",
       " array([[[187, 187, 187],\n",
       "         [158, 158, 158],\n",
       "         [104, 104, 104],\n",
       "         [121, 121, 121],\n",
       "         [143, 143, 143]],\n",
       " \n",
       "        [[198, 198, 198],\n",
       "         [125, 125, 125],\n",
       "         [255, 255, 255],\n",
       "         [255, 255, 255],\n",
       "         [147, 147, 147]],\n",
       " \n",
       "        [[209, 209, 209],\n",
       "         [134, 134, 134],\n",
       "         [255, 255, 255],\n",
       "         [ 97,  97,  97],\n",
       "         [182, 182, 182]]], dtype=uint8),\n",
       " array([[[187, 187, 187],\n",
       "         [158, 158, 158],\n",
       "         [104, 104, 104],\n",
       "         [121, 121, 121],\n",
       "         [143, 143, 143]],\n",
       " \n",
       "        [[198, 198, 198],\n",
       "         [125, 125, 125],\n",
       "         [255, 255, 255],\n",
       "         [255, 255, 255],\n",
       "         [147, 147, 147]],\n",
       " \n",
       "        [[209, 209, 209],\n",
       "         [134, 134, 134],\n",
       "         [255, 255, 255],\n",
       "         [ 97,  97,  97],\n",
       "         [182, 182, 182]]], dtype=uint8)]"
      ]
     },
     "execution_count": 23,
     "metadata": {},
     "output_type": "execute_result"
    }
   ],
   "source": [
    "splitting = np.hsplit(ims, 3)\n",
    "splitting"
   ]
  },
  {
   "cell_type": "code",
   "execution_count": 26,
   "id": "ca9acb51",
   "metadata": {},
   "outputs": [
    {
     "data": {
      "text/plain": [
       "[array([[[187, 187, 187],\n",
       "         [158, 158, 158],\n",
       "         [104, 104, 104],\n",
       "         [121, 121, 121],\n",
       "         [143, 143, 143],\n",
       "         [187, 187, 187],\n",
       "         [158, 158, 158],\n",
       "         [104, 104, 104],\n",
       "         [121, 121, 121],\n",
       "         [143, 143, 143],\n",
       "         [187, 187, 187],\n",
       "         [158, 158, 158],\n",
       "         [104, 104, 104],\n",
       "         [121, 121, 121],\n",
       "         [143, 143, 143]]], dtype=uint8),\n",
       " array([[[198, 198, 198],\n",
       "         [125, 125, 125],\n",
       "         [255, 255, 255],\n",
       "         [255, 255, 255],\n",
       "         [147, 147, 147],\n",
       "         [198, 198, 198],\n",
       "         [125, 125, 125],\n",
       "         [255, 255, 255],\n",
       "         [255, 255, 255],\n",
       "         [147, 147, 147],\n",
       "         [198, 198, 198],\n",
       "         [125, 125, 125],\n",
       "         [255, 255, 255],\n",
       "         [255, 255, 255],\n",
       "         [147, 147, 147]]], dtype=uint8),\n",
       " array([[[209, 209, 209],\n",
       "         [134, 134, 134],\n",
       "         [255, 255, 255],\n",
       "         [ 97,  97,  97],\n",
       "         [182, 182, 182],\n",
       "         [209, 209, 209],\n",
       "         [134, 134, 134],\n",
       "         [255, 255, 255],\n",
       "         [ 97,  97,  97],\n",
       "         [182, 182, 182],\n",
       "         [209, 209, 209],\n",
       "         [134, 134, 134],\n",
       "         [255, 255, 255],\n",
       "         [ 97,  97,  97],\n",
       "         [182, 182, 182]]], dtype=uint8)]"
      ]
     },
     "execution_count": 26,
     "metadata": {},
     "output_type": "execute_result"
    }
   ],
   "source": [
    "splitting = np.vsplit(ims, 3)\n",
    "splitting"
   ]
  },
  {
   "cell_type": "code",
   "execution_count": 27,
   "id": "47694bc1",
   "metadata": {},
   "outputs": [
    {
     "data": {
      "text/plain": [
       "list"
      ]
     },
     "execution_count": 27,
     "metadata": {},
     "output_type": "execute_result"
    }
   ],
   "source": [
    "type(splitting)"
   ]
  },
  {
   "cell_type": "code",
   "execution_count": null,
   "id": "82638066",
   "metadata": {},
   "outputs": [],
   "source": []
  },
  {
   "cell_type": "code",
   "execution_count": null,
   "id": "f8fc9a80",
   "metadata": {},
   "outputs": [],
   "source": []
  },
  {
   "cell_type": "code",
   "execution_count": null,
   "id": "e4da89ca",
   "metadata": {},
   "outputs": [],
   "source": []
  },
  {
   "cell_type": "code",
   "execution_count": null,
   "id": "1d7ff667",
   "metadata": {},
   "outputs": [],
   "source": []
  }
 ],
 "metadata": {
  "kernelspec": {
   "display_name": "Python 3 (ipykernel)",
   "language": "python",
   "name": "python3"
  },
  "language_info": {
   "codemirror_mode": {
    "name": "ipython",
    "version": 3
   },
   "file_extension": ".py",
   "mimetype": "text/x-python",
   "name": "python",
   "nbconvert_exporter": "python",
   "pygments_lexer": "ipython3",
   "version": "3.10.1"
  }
 },
 "nbformat": 4,
 "nbformat_minor": 5
}
